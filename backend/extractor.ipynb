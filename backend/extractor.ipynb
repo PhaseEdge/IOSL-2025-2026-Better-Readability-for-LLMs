{
 "cells": [
  {
   "cell_type": "code",
   "execution_count": null,
   "id": "c62c4087",
   "metadata": {},
   "outputs": [],
   "source": [
    "import json\n",
    "import regex as re\n",
    "from crawl4ai import AsyncWebCrawler\n",
    "import transformers\n",
    "import torch\n",
    "\n",
    "# MODEL ZOO\n",
    "MODEL_ZOO = {\n",
    "    \"mistral\": \"mistralai/Mistral-7B-Instruct-v0.2\",\n",
    "    \"llama\": \"meta-llama/Llama-2-7b-chat-hf\",\n",
    "    \"qwen\": \"Qwen/Qwen2.5-7B-Instruct\",\n",
    "    \"phi2\": \"HuggingFaceTB/SmolLM2-1.7B-Instruct\"\n",
    "}\n",
    "\n",
    "# Load model/tokenizer once\n",
    "def load_model(model_name: str):\n",
    "    device = 0 if torch.cuda.is_available() else -1\n",
    "    tokenizer = transformers.AutoTokenizer.from_pretrained(model_name)\n",
    "    model = transformers.AutoModelForCausalLM.from_pretrained(\n",
    "        model_name,\n",
    "        torch_dtype=torch.float16 if torch.cuda.is_available() else torch.float32,\n",
    "        device_map=\"auto\" if torch.cuda.is_available() else None\n",
    "    )\n",
    "    if tokenizer.pad_token is None:\n",
    "        tokenizer.pad_token = tokenizer.eos_token\n",
    "        model.config.pad_token_id = tokenizer.eos_token_id\n",
    "\n",
    "    pipe = transformers.pipeline(\n",
    "        \"text-generation\",\n",
    "        model=model,\n",
    "        tokenizer=tokenizer\n",
    "    )\n",
    "    return pipe\n",
    "\n",
    "async def fetch_markdown(url: str) -> str:\n",
    "    async with AsyncWebCrawler() as crawler:\n",
    "        result = await crawler.arun(url=url)\n",
    "        return result.markdown\n",
    "    \n",
    "# Extraction function\n",
    "def extract_structured_info(pipe, text: str, temp, top_p) -> dict:\n",
    "    prompt = text\n",
    "\n",
    "\n",
    "    output = pipe(\n",
    "        prompt,\n",
    "        max_new_tokens=512,\n",
    "        do_sample=True,\n",
    "        temperature=temp,\n",
    "        top_p=top_p,\n",
    "        repetition_penalty=1.2,\n",
    "        no_repeat_ngram_size=3\n",
    "    )[0]['generated_text']\n",
    "    \n",
    "    # Extract first valid JSON block\n",
    "    match = re.search(r'\\{(?:[^{}]|(?R))*\\}', output, re.DOTALL)\n",
    "    if match:\n",
    "        try:\n",
    "            return json.loads(match.group()), output\n",
    "        except json.JSONDecodeError:\n",
    "            print(\"[ERROR] JSON decoding failed. Raw match:\\n\", match.group())\n",
    "    else:\n",
    "        print(\"[ERROR] No JSON object found in output.\\n\", output)\n",
    "    return {}, output\n",
    "\n"
   ]
  },
  {
   "cell_type": "code",
   "execution_count": 3,
   "id": "f7ab78f5",
   "metadata": {},
   "outputs": [
    {
     "name": "stderr",
     "output_type": "stream",
     "text": [
      "Device set to use cuda:0\n"
     ]
    }
   ],
   "source": [
    "pipe = load_model(MODEL_ZOO[\"phi2\"])"
   ]
  },
  {
   "cell_type": "code",
   "execution_count": 151,
   "id": "f2abce73",
   "metadata": {},
   "outputs": [
    {
     "data": {
      "text/html": [
       "<pre style=\"white-space:pre;overflow-x:auto;line-height:normal;font-family:Menlo,'DejaVu Sans Mono',consolas,'Courier New',monospace\"><span style=\"color: #008080; text-decoration-color: #008080; font-weight: bold\">[</span><span style=\"color: #008080; text-decoration-color: #008080\">INIT</span><span style=\"color: #008080; text-decoration-color: #008080; font-weight: bold\">]</span><span style=\"color: #008080; text-decoration-color: #008080\">.... → Crawl4AI </span><span style=\"color: #008080; text-decoration-color: #008080; font-weight: bold\">0.6</span><span style=\"color: #008080; text-decoration-color: #008080\">.</span><span style=\"color: #008080; text-decoration-color: #008080; font-weight: bold\">3</span><span style=\"color: #008080; text-decoration-color: #008080\"> </span>\n",
       "</pre>\n"
      ],
      "text/plain": [
       "\u001b[1;36m[\u001b[0m\u001b[36mINIT\u001b[0m\u001b[1;36m]\u001b[0m\u001b[36m...\u001b[0m\u001b[36m. → Crawl4AI \u001b[0m\u001b[1;36m0.6\u001b[0m\u001b[36m.\u001b[0m\u001b[1;36m3\u001b[0m\u001b[36m \u001b[0m\n"
      ]
     },
     "metadata": {},
     "output_type": "display_data"
    },
    {
     "data": {
      "text/html": [
       "<pre style=\"white-space:pre;overflow-x:auto;line-height:normal;font-family:Menlo,'DejaVu Sans Mono',consolas,'Courier New',monospace\"><span style=\"color: #008000; text-decoration-color: #008000; font-weight: bold\">[</span><span style=\"color: #008000; text-decoration-color: #008000\">FETCH</span><span style=\"color: #008000; text-decoration-color: #008000; font-weight: bold\">]</span><span style=\"color: #008000; text-decoration-color: #008000\">... ↓ </span><span style=\"color: #008000; text-decoration-color: #008000; text-decoration: underline\">https://de.wikipedia.org/wiki/K</span><span style=\"color: #008000; text-decoration-color: #008000\">ünstliche_Intelligenz                                                 |</span>\n",
       "<span style=\"color: #008000; text-decoration-color: #008000\">✓ | ⏱: </span><span style=\"color: #008000; text-decoration-color: #008000; font-weight: bold\">0.</span><span style=\"color: #008000; text-decoration-color: #008000\">85s </span>\n",
       "</pre>\n"
      ],
      "text/plain": [
       "\u001b[1;32m[\u001b[0m\u001b[32mFETCH\u001b[0m\u001b[1;32m]\u001b[0m\u001b[32m...\u001b[0m\u001b[32m ↓ \u001b[0m\u001b[4;32mhttps://de.wikipedia.org/wiki/K\u001b[0m\u001b[32münstliche_Intelligenz                                                 |\u001b[0m\n",
       "\u001b[32m✓\u001b[0m\u001b[32m | ⏱: \u001b[0m\u001b[1;32m0.\u001b[0m\u001b[32m85s \u001b[0m\n"
      ]
     },
     "metadata": {},
     "output_type": "display_data"
    },
    {
     "data": {
      "text/html": [
       "<pre style=\"white-space:pre;overflow-x:auto;line-height:normal;font-family:Menlo,'DejaVu Sans Mono',consolas,'Courier New',monospace\"><span style=\"color: #008000; text-decoration-color: #008000; font-weight: bold\">[</span><span style=\"color: #008000; text-decoration-color: #008000\">SCRAPE</span><span style=\"color: #008000; text-decoration-color: #008000; font-weight: bold\">]</span><span style=\"color: #008000; text-decoration-color: #008000\">.. ◆ </span><span style=\"color: #008000; text-decoration-color: #008000; text-decoration: underline\">https://de.wikipedia.org/wiki/K</span><span style=\"color: #008000; text-decoration-color: #008000\">ünstliche_Intelligenz                                                 |</span>\n",
       "<span style=\"color: #008000; text-decoration-color: #008000\">✓ | ⏱: </span><span style=\"color: #008000; text-decoration-color: #008000; font-weight: bold\">0.</span><span style=\"color: #008000; text-decoration-color: #008000\">69s </span>\n",
       "</pre>\n"
      ],
      "text/plain": [
       "\u001b[1;32m[\u001b[0m\u001b[32mSCRAPE\u001b[0m\u001b[1;32m]\u001b[0m\u001b[32m.. ◆ \u001b[0m\u001b[4;32mhttps://de.wikipedia.org/wiki/K\u001b[0m\u001b[32münstliche_Intelligenz                                                 |\u001b[0m\n",
       "\u001b[32m✓\u001b[0m\u001b[32m | ⏱: \u001b[0m\u001b[1;32m0.\u001b[0m\u001b[32m69s \u001b[0m\n"
      ]
     },
     "metadata": {},
     "output_type": "display_data"
    },
    {
     "data": {
      "text/html": [
       "<pre style=\"white-space:pre;overflow-x:auto;line-height:normal;font-family:Menlo,'DejaVu Sans Mono',consolas,'Courier New',monospace\"><span style=\"color: #008000; text-decoration-color: #008000; font-weight: bold\">[</span><span style=\"color: #008000; text-decoration-color: #008000\">COMPLETE</span><span style=\"color: #008000; text-decoration-color: #008000; font-weight: bold\">]</span><span style=\"color: #008000; text-decoration-color: #008000\"> ● </span><span style=\"color: #008000; text-decoration-color: #008000; text-decoration: underline\">https://de.wikipedia.org/wiki/K</span><span style=\"color: #008000; text-decoration-color: #008000\">ünstliche_Intelligenz                                                 |</span>\n",
       "<span style=\"color: #008000; text-decoration-color: #008000\">✓ | ⏱: </span><span style=\"color: #008000; text-decoration-color: #008000; font-weight: bold\">1.</span><span style=\"color: #008000; text-decoration-color: #008000\">55s </span>\n",
       "</pre>\n"
      ],
      "text/plain": [
       "\u001b[1;32m[\u001b[0m\u001b[32mCOMPLETE\u001b[0m\u001b[1;32m]\u001b[0m\u001b[32m ● \u001b[0m\u001b[4;32mhttps://de.wikipedia.org/wiki/K\u001b[0m\u001b[32münstliche_Intelligenz                                                 |\u001b[0m\n",
       "\u001b[32m✓\u001b[0m\u001b[32m | ⏱: \u001b[0m\u001b[1;32m1.\u001b[0m\u001b[32m55s \u001b[0m\n"
      ]
     },
     "metadata": {},
     "output_type": "display_data"
    }
   ],
   "source": [
    "import nest_asyncio\n",
    "\n",
    "nest_asyncio.apply()\n",
    "\n",
    "# Now safe to call await\n",
    "markdown = await fetch_markdown(\"https://de.wikipedia.org/wiki/K%C3%BCnstliche_Intelligenz\")\n"
   ]
  },
  {
   "cell_type": "code",
   "execution_count": 150,
   "id": "557f6601",
   "metadata": {},
   "outputs": [
    {
     "name": "stdout",
     "output_type": "stream",
     "text": [
      "[ERROR] JSON decoding failed. Raw match:\n",
      " {| class=\"wikitable\"\n",
      "     |+ {{infobox}}\n",
      "     +|- name=[[SpecialPage(MeineWerke_E)|Konstlіchtete_Zeichentafel]]\n",
      "     +|}\n",
      "[\n",
      "  {},\n",
      "  \"You are given the raw markdown content of a website.\\nAnalyze the content and extract the most meaningful and relevant structured information.\\nRespond only with a single JSON object containing fields that make sense based on the content.\\nDo not explain anything. Only return the JSON object.\\n\\nate&wmf_medium=sidebar&wmf_campaign=de.wikipedia.org&uselang=de)\\n  * [Benutzerkonto erstellen](https://de.wikipedia.org/w/index.php?title=Spezial:Benutzerkonto_anlegen&returnto=K%C3%BCnstliche+Intelligenz \\\"Wir ermutigen dich dazu, ein Benutzerkonto zu erstellen und dich anzumelden. Es ist jedoch nicht zwingend erforderlich.\\\")\\n  * [Anmelden](https://de.wikipedia.org/w/index.php?title=Spezial:Anmelden&returnto=K%C3%BCnstliche+Intelligenz \\\"Anmelden ist zwar keine Pflicht, wird aber gerne gesehen. \\\\[alt-shift-o\\\\]\\\")\\n\\n\\nMeine Werkzeuge\\n  * [Jetzt spenden](https://donate.wikimedia.org/?wmf_source=donate&wmf_medium=sidebar&wmf_campaign=de.wikipedia.org&uselang=de)\\n  * [ Benutzerkonto erstellen](https://de.wikipedia.org/w/index.php?title=Spezial:Benutzerkonto_anlegen&returnto=K%C3%BCnstliche+Intelligenz \\\"Wir ermutigen dich dazu, ein Benutzerkonto zu erstellen und dich anzumelden. Es ist jedoch nicht zwingend erforderlich.\\\")\\n  * [ Anmelden](https://de.wikipedia.org/w/index.php?title=Spezial:Anmelden&returnto=K%C3%BCnstliche+Intelligenz \\\"Anmelden ist zwar keine Pflicht, wird aber gerne gesehen. \\\\[alt-shift-o\\\\]\\\")\\n\\n\\nSeiten für nicht angemeldete Benutzer [weitere Informationen](https://de.wikipedia.org/wiki/Wikipedia:Starthilfe)\\n  * [Beiträge](https://de.wikipedia.org/wiki/Spezial:Meine_Beitr%C3%A4ge \\\"Eine Liste der Bearbeitungen, die von dieser IP-Adresse gemacht wurden \\\\[alt-shift-y\\\\]\\\")\\n  * [Diskussionsseite](https://de.wikipedia.org/wiki/Spezial:Meine_Diskussionsseite \\\"Diskussion über Änderungen von dieser IP-Adresse \\\\[alt-shift-n\\\\]\\\")\\n\\n\\n[ Wiki Loves Earth Fotografiere die Natur für Wikipedia und gewinne! ](https://de.wikipedia.org/wiki/Wikipedia:Wiki_Loves_Earth_2025/Deutschland)\\n[ ![Hide](https://upload.wikimedia.org/wikipedia/foundation/2/20/CloseWindow19x19.png)](https://de.wikipedia.org/wiki/K%C3%BCnstliche_Intelligenz \\\"Hide\\\")\\nInhaltsverzeichnis umschalten\\n## Inhaltsverzeichnis\\nIn die Seitenleiste verschieben Verbergen\\n  * [ (Anfang) ](https://de.wikipedia.org/wiki/K%C3%BCnsetlichierte_Content_Management_System#Prolog \\\"Mehr over Wikipedia's Prolog!\\\")  \\n  \\n ## Vorbei\\nErledigung der Spiegelaufgabe \\n #+INCLUDE:/media/Spiegelaufgaben/Graphene.md\\n\\n\\n {| class=\\\"wikitable\\\"\\n     |+ {{infobox}}\\n     +|- name=[[SpecialPage(MeineWerke_E)|Konstlіchtete_Zeichentafel]]\\n     +|}   \\n     |}\\n\\n  **{{{Infolist|}</infoline><main>{}<table class=\\\"\\\"> <thead style='fontweight: bold' align=\\\"right\\\">{{Infofields}} </head><body class=\\\"box-shadow\\\"/>\\n  \\n<p dir=ltr></p>\\n\\n**Meine Website: Aktuelles - Nachrichten für Spezialist* und Weise Zukunftsperspektiven</td>\\n      </tr>\\n    </tabulardata><caption>[Main page for KDE development projects; also contains related links][1]</caption></thead>\\n*[[MediaWiki_Development]]. [<a href=\\\"#top\\\" class=\\\"navigation navigation-anchor\\\">Übersicht änderter Infolisten / ChangeLogs</a>][2]|<br />\\n  [[MediaWiki User Interface Components Maintenance]], [[CategoryWikiLaunchPad]], <<Abitrechte, Auktion und Übertragungen>>||</header>\\n\\n    _TOC_\\n--- \\n\\n== About me ==\\n### Profile\\nThis is my personal homepage at `http://www.fergalhammill.com`, I occasionally update it myself or have others do so in my behalf as part of collaboration initiatives hosted by this Mediawiki instance (`https://zhongwen1688781143325952.wordpress.com`). The other port allows anonymous access to some but mostly all pages herein including those which contain photos taken recently. Note that no additional rights outside the scope provided here can be asserted against any of these Wikimedia instances except through your local privacy settings if you happen to set them appropriately while using one of our services such as those offered at https://interlanguage.wikia.org/. Please enjoy your stay here.<br/>I am open about\"\n",
      "]\n",
      "[ERROR] No JSON object found in output.\n",
      " You are given the raw markdown content of a website.\n",
      "Analyze the content and extract the most meaningful and relevant structured information.\n",
      "Respond only with a single JSON object containing fields that make sense based on the content.\n",
      "Do not explain anything. Only return the JSON object.\n",
      "{}\n"
     ]
    }
   ],
   "source": [
    "temp = 0.9\n",
    "top_p = 0.8\n",
    "prompt = (\n",
    "    \"You are given the raw markdown content of a website.\\n\"\n",
    "    \"Analyze the content and extract the most meaningful and relevant structured information.\\n\"\n",
    "    \"Respond only with a single JSON object containing fields that make sense based on the content.\\n\"\n",
    "    \"Do not explain anything. Only return the JSON object.\"\n",
    ")\n",
    "result = extract_structured_info(pipe, prompt + \"\\n\\n\" + markdown[2000:4000], temp=1.0, top_p=0.95)\n",
    "print(json.dumps(result, indent=2, ensure_ascii=False))\n",
    "\n",
    "\n",
    "\n",
    "result, output = extract_structured_info(pipe, prompt, temp, top_p)\n",
    "\n",
    "import json\n",
    "print(json.dumps(result, indent=2, ensure_ascii=False))"
   ]
  }
 ],
 "metadata": {
  "kernelspec": {
   "display_name": "Python 3",
   "language": "python",
   "name": "python3"
  },
  "language_info": {
   "codemirror_mode": {
    "name": "ipython",
    "version": 3
   },
   "file_extension": ".py",
   "mimetype": "text/x-python",
   "name": "python",
   "nbconvert_exporter": "python",
   "pygments_lexer": "ipython3",
   "version": "3.10.12"
  }
 },
 "nbformat": 4,
 "nbformat_minor": 5
}
